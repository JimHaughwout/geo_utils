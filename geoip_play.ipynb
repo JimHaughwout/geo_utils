{
 "cells": [
  {
   "cell_type": "code",
   "execution_count": 34,
   "metadata": {},
   "outputs": [],
   "source": [
    "# Get Public IP\n",
    "# See https://stackoverflow.com/questions/9481419/how-can-i-get-the-public-ip-using-python2-7\n",
    "from json import load\n",
    "from urllib2 import urlopen\n",
    "public_ip = load(urlopen('https://api.ipify.org/?format=json'))['ip']"
   ]
  },
  {
   "cell_type": "code",
   "execution_count": 35,
   "metadata": {},
   "outputs": [
    {
     "name": "stdout",
     "output_type": "stream",
     "text": [
      "GeoIP info found: <IPInfo ip=u'81.235.185.233' country='SE' continent='EU' subdivisions=frozenset(['AB']) timezone='Europe/Stockholm' location=(59.3326, 18.0649)>\n"
     ]
    }
   ],
   "source": [
    "# Get GeoIP info\n",
    "# See https://pythonhosted.org/python-geoip/\n",
    "from geoip import geolite2\n",
    "geo_info = geolite2.lookup(public_ip)\n",
    "if geo_info is not None:\n",
    "    print \"GeoIP info found:\", geo_info\n",
    "else:\n",
    "    print \"No GeoIP info available\""
   ]
  },
  {
   "cell_type": "code",
   "execution_count": 36,
   "metadata": {},
   "outputs": [
    {
     "name": "stdout",
     "output_type": "stream",
     "text": [
      "Public IP Address:\t81.235.185.233\n",
      "Continent:\t\tEU\n",
      "Country:\t\tSE\n",
      "Time Zone:\t\tEurope/Stockholm\n",
      "Latitude:\t\t59.3326\n",
      "Longitude:\t\t18.0649\n"
     ]
    }
   ],
   "source": [
    "# Pretty Print\n",
    "print \"Public IP Address:\\t\", geo_info.ip\n",
    "print \"Continent:\\t\\t\", geo_info.continent\n",
    "print \"Country:\\t\\t\", geo_info.country\n",
    "print \"Time Zone:\\t\\t\", geo_info.timezone\n",
    "print \"Latitude:\\t\\t\", geo_info.location[0]\n",
    "print \"Longitude:\\t\\t\", geo_info.location[1]"
   ]
  }
 ],
 "metadata": {
  "kernelspec": {
   "display_name": "Python 2",
   "language": "python",
   "name": "python2"
  },
  "language_info": {
   "codemirror_mode": {
    "name": "ipython",
    "version": 2
   },
   "file_extension": ".py",
   "mimetype": "text/x-python",
   "name": "python",
   "nbconvert_exporter": "python",
   "pygments_lexer": "ipython2",
   "version": "2.7.15"
  }
 },
 "nbformat": 4,
 "nbformat_minor": 2
}
